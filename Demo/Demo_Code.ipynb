{
 "cells": [
  {
   "cell_type": "code",
   "execution_count": 1,
   "metadata": {
    "scrolled": false
   },
   "outputs": [],
   "source": [
    "#Code to Apply TCGA-Trained T14 Classifier to Unseen Data\n",
    "#Here, using TCGA T14 Held-Out Test Set as example \n",
    "\n",
    "from transformers import AutoTokenizer, AutoModel\n",
    "from transformers import BigBirdForSequenceClassification\n",
    "from transformers import TrainingArguments, Trainer\n",
    "import torch\n",
    "from sklearn.metrics import roc_auc_score\n",
    "import pandas as pd\n",
    "from scipy.special import softmax\n",
    "import time \n",
    "start = time.time()\n",
    "\n",
    "num_classes = 4\n",
    "max_tokens = 2048\n",
    "output_dir = 'output_directory/'"
   ]
  },
  {
   "cell_type": "code",
   "execution_count": 2,
   "metadata": {},
   "outputs": [],
   "source": [
    "#Download Model and Instantiate Testing Object\n",
    "def compute_metrics(eval_pred):\n",
    "    raw_pred, labels = eval_pred\n",
    "    score_pred = softmax(raw_pred, axis=1)\n",
    "    #roc = roc_auc_score(labels, score_pred) \n",
    "    au_roc_macro = roc_auc_score(labels, score_pred, multi_class='ovr', average = 'macro') \n",
    "    return {\"roc_auc\": au_roc_macro} \n",
    "\n",
    "tokenizer = AutoTokenizer.from_pretrained(\"yikuan8/Clinical-BigBird\")\n",
    "model = BigBirdForSequenceClassification.from_pretrained(\"jkefeli/CancerStage_Classifier_T\", num_labels=num_classes)\n",
    "\n",
    "best_trainer = Trainer(model=model, compute_metrics=compute_metrics,\n",
    "    args=TrainingArguments(output_dir = output_dir)) "
   ]
  },
  {
   "cell_type": "code",
   "execution_count": 3,
   "metadata": {},
   "outputs": [],
   "source": [
    "#Import Test Data\n",
    "class Dataset(torch.utils.data.Dataset):\n",
    "    def __init__(self, encodings, labels=None):\n",
    "        self.encodings = encodings\n",
    "        self.labels = labels\n",
    "\n",
    "    def __getitem__(self, idx):\n",
    "        item = {key: torch.tensor(val[idx]) for key, val in self.encodings.items()}\n",
    "        if self.labels:\n",
    "            item[\"labels\"] = torch.tensor(self.labels[idx])\n",
    "        return item\n",
    "\n",
    "    def __len__(self):\n",
    "        return len(self.encodings[\"input_ids\"])\n",
    "\n",
    "\n",
    "test_data = pd.read_csv('T14_test.csv')\n",
    "X_test = list(test_data['text'])\n",
    "y_test = list(test_data['label'])\n",
    "X_test_tokenized=tokenizer(X_test, padding=True, truncation=True, max_length=max_tokens)\n",
    "test_dataset = Dataset(X_test_tokenized,y_test)"
   ]
  },
  {
   "cell_type": "code",
   "execution_count": 4,
   "metadata": {},
   "outputs": [
    {
     "name": "stderr",
     "output_type": "stream",
     "text": [
      "***** Running Evaluation *****\n",
      "  Num examples = 1034\n",
      "  Batch size = 8\n"
     ]
    },
    {
     "data": {
      "text/html": [
       "\n",
       "    <div>\n",
       "      \n",
       "      <progress value='130' max='130' style='width:300px; height:20px; vertical-align: middle;'></progress>\n",
       "      [130/130 1:59:13]\n",
       "    </div>\n",
       "    "
      ],
      "text/plain": [
       "<IPython.core.display.HTML object>"
      ]
     },
     "metadata": {},
     "output_type": "display_data"
    },
    {
     "name": "stdout",
     "output_type": "stream",
     "text": [
      "0.9451\n"
     ]
    }
   ],
   "source": [
    "#Compute AU-ROC of Model Applied to Test Dataset\n",
    "test_roc = round(best_trainer.evaluate(test_dataset)['eval_roc_auc'],4)\n",
    "print(test_roc)"
   ]
  },
  {
   "cell_type": "code",
   "execution_count": 5,
   "metadata": {},
   "outputs": [
    {
     "name": "stdout",
     "output_type": "stream",
     "text": [
      "\n",
      "Elapsed Time:  120.204 Minutes\n"
     ]
    }
   ],
   "source": [
    "#Track Run-Time (seconds)\n",
    "end = time.time()\n",
    "runtime = round((end - start)/60,3)\n",
    "print('\\nElapsed Time: ', runtime, 'Minutes')"
   ]
  },
  {
   "cell_type": "code",
   "execution_count": null,
   "metadata": {},
   "outputs": [],
   "source": []
  }
 ],
 "metadata": {
  "kernelspec": {
   "display_name": "Python 3",
   "language": "python",
   "name": "python3"
  },
  "language_info": {
   "codemirror_mode": {
    "name": "ipython",
    "version": 3
   },
   "file_extension": ".py",
   "mimetype": "text/x-python",
   "name": "python",
   "nbconvert_exporter": "python",
   "pygments_lexer": "ipython3",
   "version": "3.8.5"
  }
 },
 "nbformat": 4,
 "nbformat_minor": 4
}
